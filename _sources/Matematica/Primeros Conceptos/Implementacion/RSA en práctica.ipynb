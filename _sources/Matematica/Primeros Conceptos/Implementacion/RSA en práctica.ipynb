{
 "cells": [
  {
   "cell_type": "markdown",
   "metadata": {},
   "source": [
    "# RSA en práctica"
   ]
  },
  {
   "cell_type": "markdown",
   "metadata": {},
   "source": [
    "Digamos que Andrés tienen algo muy importante que decirle a su amiga Sofía. Para que Andrés le pueda enviar el mensaje secreto, Sofía impleneta un sistema de RSA. Lo primero que hace entonces es seleccionar dos números primos $P$ y $Q$ muy grandes."
   ]
  },
  {
   "cell_type": "code",
   "execution_count": 24,
   "metadata": {},
   "outputs": [
    {
     "name": "stdout",
     "output_type": "stream",
     "text": [
      "P = 677\n",
      "Q = 383\n"
     ]
    }
   ],
   "source": [
    "#En este algorítmo seleccionamos dos primos P y Q al azar entre un rango de números a=100 y b=1000\n",
    "\n",
    "import random\n",
    "\n",
    "def isPrime(n):\n",
    "    k=0\n",
    "    for i in range(2,n):\n",
    "        if n%i==0:\n",
    "            k=i\n",
    "            break\n",
    "    if k==0:\n",
    "        return(True)\n",
    "    else:\n",
    "        return(False)\n",
    "\n",
    "a=100\n",
    "b=1000\n",
    "\n",
    "P = random.randint(a,b)\n",
    "while not isPrime(P):\n",
    "    P=random.randint(a,b)\n",
    "\n",
    "print(\"P =\",P)\n",
    "\n",
    "Q = random.randint(a,b)\n",
    "while not isPrime(Q):\n",
    "    Q=random.randint(a,b)\n",
    "\n",
    "print(\"Q =\",Q)\n"
   ]
  },
  {
   "cell_type": "markdown",
   "metadata": {},
   "source": [
    "Enseguida, Sofía calcula $N=P\\cdot Q$ y elije un exponente $e$ que tenga un inverso multiplicativo módulo $\\varphi(N)$. Si el $e$ que escogió Sofía no tiene inverso, entonces debe volver a escoger dos primos al azar $P$ y $Q$ y repitir el proceso. Si el $e$ que escogió sí tiene inverso, digamos $d$, entonces este número es la \"clave privada\" de Sofía. Ahora que Sofía tiene su clave privada $d$, está lista para publicar los números $N$ y $e$ que son la \"clave pública\" para que Andrés pueda encriptar su mensaje."
   ]
  },
  {
   "cell_type": "code",
   "execution_count": 31,
   "metadata": {},
   "outputs": [
    {
     "name": "stdout",
     "output_type": "stream",
     "text": [
      "La clave privada de sofía es el número d = 110671\n",
      "La clave pública que publica Sofía es el par (N,e) = ( 259291 , 7 )\n"
     ]
    }
   ],
   "source": [
    "#En este algorítmo calculamos N=P*Q y el inverso multiplicadivo módulo phi(N) d de e.\n",
    "\n",
    "c=5\n",
    "d=10\n",
    "e = random.randint(c,d)\n",
    "N = P*Q\n",
    "\n",
    "\n",
    "def egcd(a, b):\n",
    "    if a == 0:\n",
    "        return (b, 0, 1)\n",
    "    else:\n",
    "        g, y, x = egcd(b % a, a)\n",
    "        return (g, x - (b // a) * y, y)\n",
    "\n",
    "def modinv(a, m):\n",
    "    g, x, y = egcd(a, m)\n",
    "    if g != 1:\n",
    "        raise Exception('modular inverse does not exist')\n",
    "    else:\n",
    "        return x % m\n",
    "\n",
    "phiN=(P-1)*(Q-1)\n",
    "d=modinv(e,phiN)\n",
    "\n",
    "print(\"La clave privada de sofía es el número d =\", d)\n",
    "print(\"La clave pública que publica Sofía es el par (N,e) =\",\"(\",N,\",\",e,\")\")\n"
   ]
  },
  {
   "cell_type": "markdown",
   "metadata": {},
   "source": [
    "Con esta información, Andrés codifica el mensaje que le quiere enviar a Sofía. En este caso, el mensaje que le quiere enviar es \"te amo\". Supongamos que Andrés y Sofía ya habían hablado previamente sobre su relación y que Sofía había decidido darle una oportunidad a Andrés para que le dijera lo que realmente sentía. Para esto, Sofía le dio entonces un tiempo Andrés para que pensara y le dio la siguiente lista con códigos para cuando Andrés quisiera responderle: 1=si, 2=no, 3=te, 4=quiero, 5=amo, 6=ver. El mensaje de Andrés codificado con esta lista sería entonces $M=35$. Así, Andrés procede a encriptar su mensaje con ayuda de la clave pública de Sofía $(N,e)$ efectuando la siguiente operación $C=M^e$(mod $N$) y publica su mensaje encriptado $C$. (El lector también puede escoger un mensaje diferente, codificarlo con la lista dada y pasárselo al siguiente método. Lo único que tiene que verificar es que su mensaje no sea mayor que $N$) "
   ]
  },
  {
   "cell_type": "code",
   "execution_count": 32,
   "metadata": {},
   "outputs": [
    {
     "name": "stdout",
     "output_type": "stream",
     "text": [
      "C = 124590\n"
     ]
    }
   ],
   "source": [
    "#En este método calculamos el mensaje público encriptado de Andrés.\n",
    "\n",
    "M=35 \n",
    "exp=M**e\n",
    "\n",
    "C=exp%N\n",
    "print(\"C =\",C)\n"
   ]
  },
  {
   "cell_type": "markdown",
   "metadata": {},
   "source": [
    "Finalmente, Sofía recibe el mensaje encriptado de Andrés y obtiene el mensaje descifrado con ayuda de su clave privada $d$ calculando $MD=C^d$ (mod$N$)"
   ]
  },
  {
   "cell_type": "code",
   "execution_count": 33,
   "metadata": {},
   "outputs": [
    {
     "name": "stdout",
     "output_type": "stream",
     "text": [
      "MD = 35\n"
     ]
    }
   ],
   "source": [
    "#En este método desciframos el mensaje encriptado de Andrés\n",
    "\n",
    "exp=C**d\n",
    "m=exp%N\n",
    "print(\"MD =\",m)\n"
   ]
  },
  {
   "cell_type": "markdown",
   "metadata": {},
   "source": [
    "De esta manera, Sofía se entera de que Andrés en efecto sí la ama y sabe que nadie más, además de ella y Andrés, lo sabe. Así, Sofía y Andrés pudieron comunicarse de manera segura y Andrés pudo decirle lo que realmente sentía a Sofía."
   ]
  }
 ],
 "metadata": {
  "kernelspec": {
   "display_name": "Python 3",
   "language": "python",
   "name": "python3"
  },
  "language_info": {
   "codemirror_mode": {
    "name": "ipython",
    "version": 3
   },
   "file_extension": ".py",
   "mimetype": "text/x-python",
   "name": "python",
   "nbconvert_exporter": "python",
   "pygments_lexer": "ipython3",
   "version": "3.7.9"
  }
 },
 "nbformat": 4,
 "nbformat_minor": 4
}
