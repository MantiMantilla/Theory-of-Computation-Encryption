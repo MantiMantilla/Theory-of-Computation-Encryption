{
 "cells": [
  {
   "cell_type": "markdown",
   "metadata": {},
   "source": [
    "# Diffie - Hellman: Ilustración"
   ]
  },
  {
   "cell_type": "markdown",
   "metadata": {},
   "source": [
    "## Motivación\n",
    "\n",
    "Con el advenimiento de la criptografía de llave pública, resultaba imperativo el desarrollo de un sistema robusto para establecer un canal de comunicación seguro. Procedimientos anteriores bajo la premisa de llaves privadas requerían convenir un intercambio presencial o vulnerable y expuesto de llaves para encriptar y desencriptar el contenido de los mensajes del canal establecido. Los primeros sistemas de criptografía de llave pública como el knapsack contemplan un procedimiento de generación de llaves que en su momento parecía robusto pero que, según el trabajo de los creadores del RSA, es suceptible a ataques altamente eficientes que permiten calcular las claves privadas en tiempo polinomial.\n",
    "\n",
    "El knapsack, como sistema de encripción, presenta procedimientos para cada etapa y ciclo de un canal de comunicación. Una vez establecidas las claves, puede establecerse la comunicación encriptando mensajes, liberandolos y desencriptandolos en su destino. Aunque existen posibles vulnerabilidades en cada etapa, nosotros nos enfocaremos por ahora en el procedimiento para la generación e intercambio de claves. Sistemas robustos de encripción como el RSA apalancan su funcionamiento desde el procedimiento descrito a continuación.\n"
   ]
  },
  {
   "cell_type": "markdown",
   "metadata": {},
   "source": [
    "## Procedimiento\n",
    "\n",
    "Seguiremos el ejemplo clásico de Alice y Bob. Estos dos personajes deben compartir mensajes el uno con el otro de forma secreta, es decir, sin que algún tercero pueda conocer e interpretar el contenido de los mensajes aún si sabe que existe el canal de comunicación. Como antes mencionado, el procedimiento Diffie Helman permite generar llaves con las cuales encriptar o desencriptar mensajes. Por lo pronto estudiaremos el proceso para alcanzar este *secreto compartido*.\n",
    "\n",
    "### Idea general\n",
    "\n",
    "La comunicación en secreto, según su descripción inicial, puede describirse por la siguiente secuencia de pasos (Suponga un escenario donde Alice quiere enviar un mensaje a Bob):\n",
    "\n",
    "1. Alice tiene un mensaje que quiere enviar a Bob.\n",
    "\n",
    "2. Independiente de como convenieron un secreto compartido, Alice utiliza el secreto para encriptar el mensaje.\n",
    "\n",
    "3. Alice publica su cifrado en la red con Bob como destinatario (Aunque cualquiera podría interceptarlo).\n",
    "\n",
    "4. Bob utiliza el mismo secreto compartido para desencriptar el cifrado y leerlo.\n",
    "\n",
    "\n",
    "Estos pasos describen la comunicación entre dos partes simétrica. Veamos ahora su contraparte asimétrica.\n",
    "\n",
    "1. Alice tiene un mensaje que quiere enviar a Bob.\n",
    "\n",
    "2. Alice conoce la llave pública (accesible por todo interesado) de Bob y encripta su mensaje con la llave.\n",
    "\n",
    "3. El cifrado solo puede desencriptarse con la llave privada de Bob. Las claves existen en pares, siendo la versión pública del destinatario la que se usa para encriptar el mensaje y la privada para desencriptarlo.\n",
    "\n",
    "3. Alice publica su cifrado en la red con Bob como destinatario (Aunque cualquiera podría interceptarlo).\n",
    "\n",
    "4. Bob, como unico conocedor de su llave privada, desencripta y lee el mensaje original de Alice.\n",
    "\n",
    "Este procedimiento es suceptible a vulnerabilidades que estudiaremos con más detalle pronto. Note que hasta ahora Alice y bob no comparten información más allá del mensaje encriptado y la clave para encriptar. El valor de este procedimiento está en que idealmente la clave privada es desconocida por todos menos por el destinatario. En teoría, siempre podría establecerse un canal de comunicación por encripción asimétrica. En práctica, para que el cifrado con una llave pública sea seguro debe hacerse con claves que exigen un alto costo computacional. En su lugar, sería preferible establecer un canal de comunicación por encripción simétrica. Tenemos entonces el siguiente escenario.\n",
    "\n",
    "Alice y Bob pertenecen a una red pública y quieren comunicarse de manera privada. Pueden establecer cada vez su canal por encripción asimétrica, pero esto es altamente ineficiente. Pueden también establecer un canal de comunicación simétrico, pero para este deben ya compartir una clave con la que encriptar y desencriptar mensajes y convenir una en una red pública es altamente riesgoso. Un escenario ideal sería en el que Alice y Bob pudieran convenir una clave o *secreto compartido* sin que los otros miembros de la red se enteren para poder comunicarse con encripción simétrica.\n",
    "\n",
    "### Compromiso\n",
    "\n",
    "En 1976 Whitfield Diffie y Martin Hellman publicaron un método que permite "
   ]
  },
  {
   "cell_type": "markdown",
   "metadata": {},
   "source": [
    "## Vulnerabilidades\n",
    "\n",
    "### Ataque de intermediario"
   ]
  },
  {
   "cell_type": "markdown",
   "metadata": {},
   "source": [
    "# Diffie-Hellman\n"
   ]
  },
  {
   "cell_type": "markdown",
   "metadata": {},
   "source": [
    "<b><i style=\"font-size:13px\">Tags: </i></b><i style=\"font-size:11px\">Introducción, Dos variables</i>"
   ]
  },
  {
   "cell_type": "markdown",
   "metadata": {},
   "source": [
    "## Enunciado\n",
    "\n",
    "La chocolatería Perla Caribe es un pequeño emprendimiento que fabrica y comercializa chocolates artesanales con cacao de distintas variedades comprado directamente a agricultores locales. Actualmente producen dos tipos de chocolates: chocolate oscuro y chocolate blanco. Una unidad de cualquier tipo de chocolate pesa 60g. Una unidad de chocolate oscuro se vende a 7,000 COP y una unidad de chocolate blanco se vende a 6,000 COP. Los costos asociados a materia prima, mano de obra y demás costos operacionales equivalen a 3,500 COP por cada unidad de chocolate oscuro y 2,000 COP por cada unidad de chocolate blanco. \n",
    "\n",
    "La producción de estos chocolates requiere de dos ingredientes en común: manteca de cacao y azúcar. Por cada unidad de chocolate oscuro se requiere 6g de manteca de cacao y 21 g de azúcar. Por cada unidad de chocolate blanco se requiere 22g de manteca de cacao y 18g de azúcar. Cada semana, la chocolatería Perla Caribe tiene disponible 12kg de manteca de cacao y 20kg de azúcar. La demanda de chocolate oscuro es ilimitada, pero a lo sumo le demandan 315 unidades de chocolate blanco por semana. Quiubo.\n",
    "\n",
    "La chocolatería Perla Caribe quiere maximizar su utilidad (ingresos menos costos). Formule un modelo matemático que represente la situación y que les permita cumplir con su objetivo. "
   ]
  },
  {
   "cell_type": "markdown",
   "metadata": {},
   "source": [
    "## Formulación\n",
    "\n",
    "**a.** Escriba término a término la(s) variable(s) de decisión que utilizará en el modelo. \n",
    "\n",
    "\\begin{align*}\n",
    "x_1: \\text{unidades de chocolate oscuro producidos cada semana} \\\\\n",
    "x_2: \\text{unidades de chocolate blanco producidos cada semana}\n",
    "\\end{align*}"
   ]
  },
  {
   "cell_type": "markdown",
   "metadata": {},
   "source": [
    "\n",
    "**b.** Escriba término a término la(s) restricción(es) lineal(es) y descríbala(s)\n",
    "\n",
    "Restricciones asociadas a la disponibilidad de recursos: \n",
    "\n",
    "\\begin{align*}\n",
    "6x_1 + 22x_2 \\leq 12,000\\\\\n",
    "21x_1 + 18x_2 \\leq 20,000\n",
    "\\end{align*}\n",
    "\n",
    "Restricciones asociadas a la demanda de productos: \n",
    "\n",
    "\\begin{align*}\n",
    "x_1 \\leq 10,000\n",
    "\\end{align*}\n",
    "\n",
    "Restricciones asociadas a tipo de variables: \n",
    "\n",
    "\\begin{align*}\n",
    "x_1 \\geq 0\\\\\n",
    "x_2 \\geq 0\n",
    "\\end{align*}"
   ]
  },
  {
   "cell_type": "markdown",
   "metadata": {},
   "source": [
    "**c.** Escriba término a término la función objetivo que maximiza la utilidad.\n",
    "\n",
    "$$\n",
    "\\text{maximizar }  (\\$7,000 - \\$3,500)x_1 + (\\$6,000-\\$2,000)x_2\n",
    "$$"
   ]
  },
  {
   "cell_type": "markdown",
   "metadata": {},
   "source": [
    "## Formulación matemática"
   ]
  },
  {
   "cell_type": "markdown",
   "metadata": {},
   "source": [
    "**Variables de decisión:**\n",
    "\n",
    "- $x_1$: unidades de chocolate oscuro producidos cada semana\n",
    "- $x_2$: unidades de chocolate blanco producidos cada semana\n",
    "\n",
    "\n",
    "**Modelo:**\n",
    "\n",
    "$$\n",
    "\\text{maximizar }  \\$3,500x_1 + \\$4,000x_2 \\text{ (1)} \n",
    "$$\n",
    "\n",
    "Sujeto a,\n",
    "\\begin{align*}\n",
    "6x_1 + 22x_2 &\\leq 12,000; &(2)\\\\\n",
    "21x_1 + 18x_2 &\\leq 20,000; &(3)\\\\\n",
    "x_2 &\\leq 10,000; &(4)\\\\\n",
    "x_1 &\\geq 0; &(5)\\\\\n",
    "x_2 & \\geq 0. &(6)\n",
    "\\end{align*}\n",
    "\n",
    "La función objetivo (1) maximiza las utilidades. Las restricciones (2) y (3) describen que se debe respetar la disponibilidad de manteca de cacao y azúcar, respectivamente. La restricción (4) garantiza no se sobrepase la demanda máxima de chocolate blanco. La restricciones (5) y (6) describen la naturaleza de la variables $x_1$ y $x_2$, respectivamente. "
   ]
  },
  {
   "cell_type": "markdown",
   "metadata": {},
   "source": []
  },
  {
   "cell_type": "markdown",
   "metadata": {},
   "source": [
    "## Implementación\n",
    "\n",
    "**e.** Resuelva el modelo planteado utilizando la librería de PulP en Python. ¿Cuál es la solución\n",
    "óptima del problema? "
   ]
  },
  {
   "cell_type": "code",
   "execution_count": 1,
   "metadata": {},
   "outputs": [
    {
     "ename": "ModuleNotFoundError",
     "evalue": "No module named 'numpy'",
     "output_type": "error",
     "traceback": [
      "\u001b[0;31m---------------------------------------------------------------------------\u001b[0m",
      "\u001b[0;31mModuleNotFoundError\u001b[0m                       Traceback (most recent call last)",
      "\u001b[0;32m<ipython-input-1-264eaef68b00>\u001b[0m in \u001b[0;36m<module>\u001b[0;34m()\u001b[0m\n\u001b[0;32m----> 1\u001b[0;31m \u001b[0;32mimport\u001b[0m \u001b[0mnumpy\u001b[0m \u001b[0;32mas\u001b[0m \u001b[0mnp\u001b[0m\u001b[0;34m\u001b[0m\u001b[0;34m\u001b[0m\u001b[0m\n\u001b[0m\u001b[1;32m      2\u001b[0m \u001b[0mnp\u001b[0m\u001b[0;34m.\u001b[0m\u001b[0mrandom\u001b[0m\u001b[0;34m.\u001b[0m\u001b[0mseed\u001b[0m\u001b[0;34m(\u001b[0m\u001b[0;36m1337\u001b[0m\u001b[0;34m)\u001b[0m\u001b[0;34m\u001b[0m\u001b[0;34m\u001b[0m\u001b[0m\n\u001b[1;32m      3\u001b[0m \u001b[0mdata\u001b[0m \u001b[0;34m=\u001b[0m \u001b[0mnp\u001b[0m\u001b[0;34m.\u001b[0m\u001b[0mrandom\u001b[0m\u001b[0;34m.\u001b[0m\u001b[0mrandn\u001b[0m\u001b[0;34m(\u001b[0m\u001b[0;36m2\u001b[0m\u001b[0;34m,\u001b[0m \u001b[0;36m100\u001b[0m\u001b[0;34m)\u001b[0m\u001b[0;34m\u001b[0m\u001b[0;34m\u001b[0m\u001b[0m\n\u001b[1;32m      4\u001b[0m \u001b[0mprint\u001b[0m\u001b[0;34m(\u001b[0m\u001b[0mdata\u001b[0m\u001b[0;34m[\u001b[0m\u001b[0;36m1\u001b[0m\u001b[0;34m,\u001b[0m \u001b[0;34m:\u001b[0m\u001b[0;36m10\u001b[0m\u001b[0;34m]\u001b[0m\u001b[0;34m)\u001b[0m\u001b[0;34m\u001b[0m\u001b[0;34m\u001b[0m\u001b[0m\n",
      "\u001b[0;31mModuleNotFoundError\u001b[0m: No module named 'numpy'"
     ]
    }
   ],
   "source": [
    "import numpy as np\n",
    "np.random.seed(1337)\n",
    "data = np.random.randn(2, 100)\n",
    "print(data[1, :10])"
   ]
  },
  {
   "cell_type": "markdown",
   "metadata": {},
   "source": [
    "## RSA en práctica"
   ]
  },
  {
   "cell_type": "markdown",
   "metadata": {},
   "source": [
    "Digamos que Andrés tienen algo muy importante que decirle a su amiga Sofía. Para que Andrés le pueda enviar el mensaje secreto, Sofía impleneta un sistema de RSA. Lo primero que hace entonces es seleccionar dos números primos P y Q muy grandes"
   ]
  },
  {
   "cell_type": "code",
   "execution_count": 76,
   "metadata": {},
   "outputs": [
    {
     "name": "stdout",
     "output_type": "stream",
     "text": [
      "9491\n"
     ]
    }
   ],
   "source": [
    "import random\n",
    "\n",
    "def isPrime(n):\n",
    "    x=0\n",
    "    y=0\n",
    "    for i in range(2,n):\n",
    "        for j in range(i,n):\n",
    "            if i*j==n:\n",
    "                x=i\n",
    "                y=j\n",
    "                break\n",
    "        if x!=0:\n",
    "            break\n",
    "        \n",
    "    if x!=0:\n",
    "        return(False)\n",
    "    else:\n",
    "        return(True)\n",
    "\n",
    "\n",
    "if isPrime(12):\n",
    "    print(\"Es primo\")\n",
    "\n",
    "\n",
    "n = random.randint(1000, 10000)\n",
    "while not isPrime(n):\n",
    "    n=random.randint(1000,10000)\n",
    "\n",
    "print(n)"
   ]
  },
  {
   "cell_type": "markdown",
   "metadata": {},
   "source": [
    "## Créditos\n",
    "\n",
    "Equipo Principios de Optimización<br>\n",
    "Instancia: Alfaima Solano<br>\n",
    "Fecha: 30/09/2020"
   ]
  },
  {
   "cell_type": "code",
   "execution_count": null,
   "metadata": {},
   "outputs": [],
   "source": []
  },
  {
   "cell_type": "code",
   "execution_count": null,
   "metadata": {},
   "outputs": [],
   "source": []
  },
  {
   "cell_type": "code",
   "execution_count": null,
   "metadata": {},
   "outputs": [],
   "source": []
  }
 ],
 "metadata": {
  "kernelspec": {
   "display_name": "Python 3",
   "language": "python",
   "name": "python3"
  },
  "language_info": {
   "codemirror_mode": {
    "name": "ipython",
    "version": 3
   },
   "file_extension": ".py",
   "mimetype": "text/x-python",
   "name": "python",
   "nbconvert_exporter": "python",
   "pygments_lexer": "ipython3",
   "version": "3.7.9"
  }
 },
 "nbformat": 4,
 "nbformat_minor": 4
}
