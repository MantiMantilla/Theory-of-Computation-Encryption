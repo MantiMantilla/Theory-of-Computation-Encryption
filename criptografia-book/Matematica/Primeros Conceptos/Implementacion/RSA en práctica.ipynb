{
 "cells": [
  {
   "cell_type": "markdown",
   "metadata": {},
   "source": [
    "# RSA en práctica"
   ]
  },
  {
   "cell_type": "markdown",
   "metadata": {},
   "source": [
    "Ahora mostramos un ejemplo explícito del uso del RSA con una historia entre dos amigos, Andrés y Sofía."
   ]
  },
  {
   "cell_type": "markdown",
   "metadata": {},
   "source": [
    "Digamos que Andrés tienen algo muy importante que decirle a su amiga Sofía. Para que Andrés le pueda enviar el mensaje secreto, Sofía implementa un sistema de RSA. Lo primero que hace entonces es seleccionar dos números primos $P$ y $Q$ muy grandes."
   ]
  },
  {
   "cell_type": "code",
   "execution_count": 163,
   "metadata": {},
   "outputs": [
    {
     "name": "stdout",
     "output_type": "stream",
     "text": [
      "P = 691\n",
      "Q = 659\n"
     ]
    }
   ],
   "source": [
    "#En este algoritmo seleccionamos dos primos P y Q al azar entre un rango de números a y b\n",
    "\n",
    "import random\n",
    "\n",
    "def isPrime(n):\n",
    "    k=0\n",
    "    for i in range(2,n):\n",
    "        if n%i==0:\n",
    "            k=i\n",
    "            break\n",
    "    if k==0:\n",
    "        return(True)\n",
    "    else:\n",
    "        return(False)\n",
    "\n",
    "a=100\n",
    "b=1000\n",
    "\n",
    "P = random.randint(a,b)\n",
    "while not isPrime(P):\n",
    "    P=random.randint(a,b)\n",
    "\n",
    "print(\"P =\",P)\n",
    "\n",
    "Q = random.randint(a,b)\n",
    "while not isPrime(Q):\n",
    "    Q=random.randint(a,b)\n",
    "\n",
    "print(\"Q =\",Q)\n"
   ]
  },
  {
   "cell_type": "markdown",
   "metadata": {},
   "source": [
    "Enseguida, Sofía calcula $N=P\\cdot Q$ y elije un exponente $e$ que tenga un inverso multiplicativo módulo $\\varphi(N)$, digamos $d$. Este número $d$ es entonces la \"clave privada\" de Sofía. Ahora que Sofía tiene su clave privada $d$, está lista para publicar los números $N$ y $e$ que son la \"clave pública\" para que Andrés pueda encriptar su mensaje. (El siguiente algorítmo elige un $e$ al azar y trata de calcular su inverso multiplicativo $d$ módulo $\\varphi(n)$. Si lanza error es porque $e$ no tiene inverso y por lo tanto debería volverse a correr el código hasta encontrar un $e$ que tenga inverso multiplicativo módulo $\\varphi(n)$)."
   ]
  },
  {
   "cell_type": "code",
   "execution_count": 166,
   "metadata": {},
   "outputs": [
    {
     "name": "stdout",
     "output_type": "stream",
     "text": [
      "La clave privada de sofía es el número d = 119479\n",
      "La clave pública que publica Sofía es el par (N,e) = ( 455369 , 19 )\n"
     ]
    }
   ],
   "source": [
    "#Este algoritmo elije un número e al azar entre un rango de números a y b. \n",
    "#Luego calcula N=P*Q y el inverso multiplicadivo d de e módulo phi(N).\n",
    "a=10\n",
    "b=50\n",
    "e = random.randint(a,b)\n",
    "N = P*Q\n",
    "\n",
    "def gcd(a,b): \n",
    "    if(b==0): \n",
    "        return a \n",
    "    else: \n",
    "        return gcd(b,a%b) \n",
    "\n",
    "def phi(n):\n",
    "    k=0\n",
    "    for i in range(1,n+1):\n",
    "        if gdc(n,i)==1:\n",
    "            k=k+1\n",
    "    return k\n",
    "\n",
    "phiN=(P-1)*(Q-1)\n",
    "exp=(phi(phiN))-1\n",
    "D=e**exp\n",
    "d=D%phiN\n",
    "\n",
    "\n",
    "if (e*d)%phiN==1:\n",
    "    print(\"La clave privada de sofía es el número d =\", d)\n",
    "    print(\"La clave pública que publica Sofía es el par (N,e) =\",\"(\",N,\",\",e,\")\")\n",
    "else:\n",
    "    print(\"El número e =\",e,\" no tiene inverso multiplicativo módulo phi(n) =\",phiN,\". Vuelva a correr el código para escoger un nuevo número e al azar.\")\n"
   ]
  },
  {
   "cell_type": "markdown",
   "metadata": {},
   "source": [
    "Con esta información, Andrés codifica el mensaje que le quiere enviar a Sofía. En este caso, el mensaje que le quiere enviar es \"te amo\". Supongamos que Andrés y Sofía ya habían hablado previamente sobre su relación y que Sofía había decidido darle una oportunidad a Andrés para que le dijera lo que realmente sentía. Para esto, Sofía le dio entonces un tiempo Andrés para que pensara y le dio la siguiente lista con códigos para cuando Andrés quisiera responderle: 1=si, 2=no, 3=te, 4=quiero, 5=amo, 6=ver. El mensaje de Andrés codificado con esta lista sería entonces $M=35$. Así, Andrés procede a encriptar su mensaje con ayuda de la clave pública de Sofía $(N,e)$ efectuando la siguiente operación $C=M^e$(mod $N$) y publica su mensaje encriptado $C$. (El lector también puede escoger un mensaje diferente, codificarlo con la lista dada y pasárselo al siguiente método. Lo único que tiene que verificar es que su mensaje no sea mayor que $N$ y que sea distinto a los dos primos $P$ y $Q$) "
   ]
  },
  {
   "cell_type": "code",
   "execution_count": 169,
   "metadata": {},
   "outputs": [
    {
     "name": "stdout",
     "output_type": "stream",
     "text": [
      "El mensaje de Andrés para Sofía es (luego de insertar el mensaje oprima ENTER): 35\n",
      "C = 137002\n"
     ]
    }
   ],
   "source": [
    "#En este método calculamos el mensaje público encriptado de Andrés.\n",
    "M=int(input(\"El mensaje de Andrés para Sofía es (luego de insertar el mensaje oprima ENTER): \"))\n",
    "exp=M**e\n",
    "\n",
    "C=exp%N\n",
    "print(\"C =\",C)"
   ]
  },
  {
   "cell_type": "markdown",
   "metadata": {},
   "source": [
    "Finalmente, Sofía recibe el mensaje encriptado de Andrés $C$ y obtiene el mensaje descifrado con ayuda de su clave privada $d$ calculando $MD=C^d \\mod N$"
   ]
  },
  {
   "cell_type": "code",
   "execution_count": 170,
   "metadata": {},
   "outputs": [
    {
     "name": "stdout",
     "output_type": "stream",
     "text": [
      "MD = 35\n"
     ]
    }
   ],
   "source": [
    "#En este método desciframos el mensaje encriptado de Andrés\n",
    "\n",
    "exp=C**d\n",
    "m=exp%N\n",
    "print(\"MD =\",m)"
   ]
  },
  {
   "cell_type": "markdown",
   "metadata": {},
   "source": [
    "De esta manera, Sofía se entera de que Andrés en efecto sí la ama y sabe que nadie más, además de ella y Andrés, lo sabe. Así, Sofía y Andrés pudieron comunicarse de manera segura y Andrés pudo decirle lo que realmente sentía a Sofía."
   ]
  }
 ],
 "metadata": {
  "kernelspec": {
   "display_name": "Python 3",
   "language": "python",
   "name": "python3"
  },
  "language_info": {
   "codemirror_mode": {
    "name": "ipython",
    "version": 3
   },
   "file_extension": ".py",
   "mimetype": "text/x-python",
   "name": "python",
   "nbconvert_exporter": "python",
   "pygments_lexer": "ipython3",
   "version": "3.7.9"
  }
 },
 "nbformat": 4,
 "nbformat_minor": 4
}
