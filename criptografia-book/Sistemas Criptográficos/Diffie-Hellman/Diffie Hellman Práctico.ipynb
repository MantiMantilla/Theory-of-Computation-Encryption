{
 "cells": [
  {
   "cell_type": "markdown",
   "metadata": {},
   "source": [
    "# Diffie - Hellman: Práctica\n",
    "\n",
    "## Motivación\n",
    "\n",
    "\n",
    "## Primeros conceptos\n",
    "\n",
    "\n",
    "## Intercambio de llaves\n",
    "\n",
    "\n",
    "## Man in the middle\n",
    "\n",
    "\n",
    "## Autenticación\n",
    "\n",
    "\n",
    "## Conclusiones"
   ]
  }
 ],
 "metadata": {
  "kernelspec": {
   "display_name": "Python 3",
   "language": "python",
   "name": "python3"
  },
  "language_info": {
   "codemirror_mode": {
    "name": "ipython",
    "version": 3
   },
   "file_extension": ".py",
   "mimetype": "text/x-python",
   "name": "python",
   "nbconvert_exporter": "python",
   "pygments_lexer": "ipython3",
   "version": "3.7.9"
  }
 },
 "nbformat": 4,
 "nbformat_minor": 4
}
